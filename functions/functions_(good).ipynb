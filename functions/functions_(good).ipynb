{
 "cells": [
  {
   "cell_type": "markdown",
   "id": "123456",
   "metadata": {},
   "source": [
    "<div style=\"text-align:left;font-size:2em\"><span style=\"font-weight:bolder;font-size:1.25em\">SP2273 | Learning Portfolio</span><br><br><span style=\"font-weight:bold;color:darkred\">Functions (Good)</span></div>"
   ]
  },
  {
   "cell_type": "markdown",
   "id": "b2fe0185",
   "metadata": {},
   "source": [
    "## 1 Check, balances and contingencies"
   ]
  },
  {
   "cell_type": "markdown",
   "id": "7952e12b",
   "metadata": {},
   "source": [
    "### 1.1 assert"
   ]
  },
  {
   "cell_type": "code",
   "execution_count": 1,
   "id": "023cef10",
   "metadata": {},
   "outputs": [
    {
     "name": "stdout",
     "output_type": "stream",
     "text": [
      "10\n"
     ]
    }
   ],
   "source": [
    "x = 10\n",
    "assert x >= 0, \"x is becoming negative!\"\n",
    "\n",
    "print(x)"
   ]
  },
  {
   "cell_type": "code",
   "execution_count": 2,
   "id": "a1460ff8",
   "metadata": {},
   "outputs": [
    {
     "ename": "AssertionError",
     "evalue": "x is becoming negative!",
     "output_type": "error",
     "traceback": [
      "\u001b[0;31m---------------------------------------------------------------------------\u001b[0m",
      "\u001b[0;31mAssertionError\u001b[0m                            Traceback (most recent call last)",
      "\u001b[0;32m/var/folders/wv/qqjm3qcj7gng87bqlsxwj3180000gn/T/ipykernel_6590/471435339.py\u001b[0m in \u001b[0;36m<module>\u001b[0;34m\u001b[0m\n\u001b[1;32m      1\u001b[0m \u001b[0mx\u001b[0m \u001b[0;34m=\u001b[0m \u001b[0;34m-\u001b[0m\u001b[0;36m1\u001b[0m\u001b[0;34m\u001b[0m\u001b[0;34m\u001b[0m\u001b[0m\n\u001b[0;32m----> 2\u001b[0;31m \u001b[0;32massert\u001b[0m \u001b[0mx\u001b[0m \u001b[0;34m>=\u001b[0m \u001b[0;36m0\u001b[0m\u001b[0;34m,\u001b[0m \u001b[0;34m\"x is becoming negative!\"\u001b[0m\u001b[0;34m\u001b[0m\u001b[0;34m\u001b[0m\u001b[0m\n\u001b[0m\u001b[1;32m      3\u001b[0m \u001b[0;34m\u001b[0m\u001b[0m\n\u001b[1;32m      4\u001b[0m \u001b[0mprint\u001b[0m\u001b[0;34m(\u001b[0m\u001b[0mx\u001b[0m\u001b[0;34m)\u001b[0m\u001b[0;34m\u001b[0m\u001b[0;34m\u001b[0m\u001b[0m\n",
      "\u001b[0;31mAssertionError\u001b[0m: x is becoming negative!"
     ]
    }
   ],
   "source": [
    "x = -1\n",
    "assert x >= 0, \"x is becoming negative!\"\n",
    "\n",
    "print(x)"
   ]
  },
  {
   "cell_type": "markdown",
   "id": "5d67671e",
   "metadata": {},
   "source": [
    "### 1.2 try-except"
   ]
  },
  {
   "cell_type": "code",
   "execution_count": 3,
   "id": "c94954a6",
   "metadata": {},
   "outputs": [
    {
     "name": "stdout",
     "output_type": "stream",
     "text": [
      "Give me a number and I will calculate its square.1\n",
      "The square of 1 is 1!\n"
     ]
    }
   ],
   "source": [
    "number=input(\"Give me a number and I will calculate its square.\")\n",
    "square=int(number)**2              # Convert English to number\n",
    "print(f'The square of {number} is {square}!')\n"
   ]
  },
  {
   "cell_type": "code",
   "execution_count": 4,
   "id": "70062a42",
   "metadata": {},
   "outputs": [
    {
     "name": "stdout",
     "output_type": "stream",
     "text": [
      "Give me a number and I will calculate its square.hahaha\n"
     ]
    },
    {
     "ename": "ValueError",
     "evalue": "invalid literal for int() with base 10: 'hahaha'",
     "output_type": "error",
     "traceback": [
      "\u001b[0;31m---------------------------------------------------------------------------\u001b[0m",
      "\u001b[0;31mValueError\u001b[0m                                Traceback (most recent call last)",
      "\u001b[0;32m/var/folders/wv/qqjm3qcj7gng87bqlsxwj3180000gn/T/ipykernel_6590/1947934380.py\u001b[0m in \u001b[0;36m<module>\u001b[0;34m\u001b[0m\n\u001b[1;32m      1\u001b[0m \u001b[0mnumber\u001b[0m\u001b[0;34m=\u001b[0m\u001b[0minput\u001b[0m\u001b[0;34m(\u001b[0m\u001b[0;34m\"Give me a number and I will calculate its square.\"\u001b[0m\u001b[0;34m)\u001b[0m\u001b[0;34m\u001b[0m\u001b[0;34m\u001b[0m\u001b[0m\n\u001b[0;32m----> 2\u001b[0;31m \u001b[0msquare\u001b[0m\u001b[0;34m=\u001b[0m\u001b[0mint\u001b[0m\u001b[0;34m(\u001b[0m\u001b[0mnumber\u001b[0m\u001b[0;34m)\u001b[0m\u001b[0;34m**\u001b[0m\u001b[0;36m2\u001b[0m              \u001b[0;31m# Convert English to number\u001b[0m\u001b[0;34m\u001b[0m\u001b[0;34m\u001b[0m\u001b[0m\n\u001b[0m\u001b[1;32m      3\u001b[0m \u001b[0mprint\u001b[0m\u001b[0;34m(\u001b[0m\u001b[0;34mf'The square of {number} is {square}!'\u001b[0m\u001b[0;34m)\u001b[0m\u001b[0;34m\u001b[0m\u001b[0;34m\u001b[0m\u001b[0m\n",
      "\u001b[0;31mValueError\u001b[0m: invalid literal for int() with base 10: 'hahaha'"
     ]
    }
   ],
   "source": [
    "number=input(\"Give me a number and I will calculate its square.\")\n",
    "square=int(number)**2              # Convert English to number\n",
    "print(f'The square of {number} is {square}!')"
   ]
  },
  {
   "cell_type": "code",
   "execution_count": 5,
   "id": "95137f31",
   "metadata": {},
   "outputs": [
    {
     "name": "stdout",
     "output_type": "stream",
     "text": [
      "Give me a number and I will calculate its square.hahaha\n",
      "Oh oh! I cannot square hahaha!\n"
     ]
    }
   ],
   "source": [
    "try:\n",
    "    number=input(\"Give me a number and I will calculate its square.\")\n",
    "    square=int(number)**2\n",
    "    print(f'The square of {number} is {square}!')\n",
    "except:\n",
    "    print(f\"Oh oh! I cannot square {number}!\")"
   ]
  },
  {
   "cell_type": "markdown",
   "id": "f11895de",
   "metadata": {},
   "source": [
    "## 2 Some loose ends"
   ]
  },
  {
   "cell_type": "markdown",
   "id": "30b405ec",
   "metadata": {},
   "source": [
    "### 2.1 Positional, keyword and default arguments"
   ]
  },
  {
   "cell_type": "code",
   "execution_count": 45,
   "id": "a184ff31",
   "metadata": {},
   "outputs": [],
   "source": [
    "def funny_add(a, b, c=1):\n",
    "    return a + 10*b + 100*c   \n"
   ]
  },
  {
   "cell_type": "code",
   "execution_count": 46,
   "id": "9f93dd0b",
   "metadata": {},
   "outputs": [
    {
     "data": {
      "text/plain": [
       "121"
      ]
     },
     "execution_count": 46,
     "metadata": {},
     "output_type": "execute_result"
    }
   ],
   "source": [
    "funny_add(1, 2)"
   ]
  },
  {
   "cell_type": "code",
   "execution_count": 11,
   "id": "53fb71a1",
   "metadata": {},
   "outputs": [
    {
     "data": {
      "text/plain": [
       "121"
      ]
     },
     "execution_count": 11,
     "metadata": {},
     "output_type": "execute_result"
    }
   ],
   "source": [
    "funny_add(a=1, b=2)"
   ]
  },
  {
   "cell_type": "code",
   "execution_count": 47,
   "id": "ecdddf90",
   "metadata": {},
   "outputs": [
    {
     "data": {
      "text/plain": [
       "312"
      ]
     },
     "execution_count": 47,
     "metadata": {},
     "output_type": "execute_result"
    }
   ],
   "source": [
    "funny_add(c=3, b=1, a=2)"
   ]
  },
  {
   "cell_type": "code",
   "execution_count": 13,
   "id": "e6693d61",
   "metadata": {},
   "outputs": [
    {
     "data": {
      "text/plain": [
       "321"
      ]
     },
     "execution_count": 13,
     "metadata": {},
     "output_type": "execute_result"
    }
   ],
   "source": [
    "funny_add(1, c=3, b=2)"
   ]
  },
  {
   "cell_type": "code",
   "execution_count": 14,
   "id": "43ff987f",
   "metadata": {},
   "outputs": [
    {
     "data": {
      "text/plain": [
       "121"
      ]
     },
     "execution_count": 14,
     "metadata": {},
     "output_type": "execute_result"
    }
   ],
   "source": [
    "funny_add(1, b=2)"
   ]
  },
  {
   "cell_type": "code",
   "execution_count": 15,
   "id": "ff42a4c7",
   "metadata": {},
   "outputs": [
    {
     "ename": "SyntaxError",
     "evalue": "positional argument follows keyword argument (2196417011.py, line 1)",
     "output_type": "error",
     "traceback": [
      "\u001b[0;36m  File \u001b[0;32m\"/var/folders/wv/qqjm3qcj7gng87bqlsxwj3180000gn/T/ipykernel_6590/2196417011.py\"\u001b[0;36m, line \u001b[0;32m1\u001b[0m\n\u001b[0;31m    funny_add(a=2, 1)\u001b[0m\n\u001b[0m                    ^\u001b[0m\n\u001b[0;31mSyntaxError\u001b[0m\u001b[0;31m:\u001b[0m positional argument follows keyword argument\n"
     ]
    }
   ],
   "source": [
    "funny_add(a=2, 1) "
   ]
  },
  {
   "cell_type": "markdown",
   "id": "0e3ffc6f",
   "metadata": {},
   "source": [
    "### 2.2 Docstrings"
   ]
  },
  {
   "cell_type": "code",
   "execution_count": 16,
   "id": "e826a6c7",
   "metadata": {},
   "outputs": [
    {
     "name": "stdout",
     "output_type": "stream",
     "text": [
      "Help on function funny_add in module __main__:\n",
      "\n",
      "funny_add(a, b, c=1)\n",
      "    A test function to demonstrate how \n",
      "    positional, keyword and default arguments \n",
      "    work.\n",
      "\n"
     ]
    }
   ],
   "source": [
    "def funny_add(a, b, c=1):\n",
    "    '''\n",
    "    A test function to demonstrate how \n",
    "    positional, keyword and default arguments \n",
    "    work.\n",
    "    '''\n",
    "    return a + 10*b + 100*c\n",
    "\n",
    "help(funny_add)\n"
   ]
  },
  {
   "cell_type": "markdown",
   "id": "3146917c",
   "metadata": {},
   "source": [
    "### 2.3 Function are first class citizens"
   ]
  },
  {
   "cell_type": "code",
   "execution_count": 19,
   "id": "09925df2",
   "metadata": {},
   "outputs": [
    {
     "data": {
      "text/plain": [
       "1.0"
      ]
     },
     "execution_count": 19,
     "metadata": {},
     "output_type": "execute_result"
    }
   ],
   "source": [
    "def my_function(angle, trig_function): \n",
    "        return trig_function(angle)\n",
    "\n",
    "\n",
    "my_function(np.pi/2, np.sin)        "
   ]
  },
  {
   "cell_type": "code",
   "execution_count": 18,
   "id": "858357ad",
   "metadata": {},
   "outputs": [
    {
     "data": {
      "text/plain": [
       "6.123233995736766e-17"
      ]
     },
     "execution_count": 18,
     "metadata": {},
     "output_type": "execute_result"
    }
   ],
   "source": [
    "my_function(np.pi/2, np.cos)   "
   ]
  },
  {
   "cell_type": "code",
   "execution_count": 20,
   "id": "52b4cfe9",
   "metadata": {},
   "outputs": [
    {
     "data": {
      "text/plain": [
       "-1.0"
      ]
     },
     "execution_count": 20,
     "metadata": {},
     "output_type": "execute_result"
    }
   ],
   "source": [
    "my_function(np.pi/2, lambda x: np.cos(2*x))  "
   ]
  },
  {
   "cell_type": "markdown",
   "id": "d3b426f8",
   "metadata": {},
   "source": [
    "### 2.4 More unpacking"
   ]
  },
  {
   "cell_type": "code",
   "execution_count": 21,
   "id": "aa447d9c",
   "metadata": {},
   "outputs": [
    {
     "name": "stdout",
     "output_type": "stream",
     "text": [
      "1 2 3\n"
     ]
    }
   ],
   "source": [
    "x, y, z = [1, 2, 3]\n",
    "print(x, y, z)\n"
   ]
  },
  {
   "cell_type": "code",
   "execution_count": 22,
   "id": "5aaea09b",
   "metadata": {},
   "outputs": [
    {
     "name": "stdout",
     "output_type": "stream",
     "text": [
      "1 2 3\n"
     ]
    }
   ],
   "source": [
    "x, y, z = np.array([1, 2, 3])\n",
    "print(x, y, z)"
   ]
  },
  {
   "cell_type": "code",
   "execution_count": 25,
   "id": "e406df09",
   "metadata": {},
   "outputs": [
    {
     "name": "stdout",
     "output_type": "stream",
     "text": [
      "1 [2, 3, 4] 5\n"
     ]
    }
   ],
   "source": [
    "x, *y, z = np.array([1, 2, 3, 4, 5])   \n",
    "print(x, y, z)"
   ]
  },
  {
   "cell_type": "code",
   "execution_count": 26,
   "id": "d00010ec",
   "metadata": {},
   "outputs": [
    {
     "name": "stdout",
     "output_type": "stream",
     "text": [
      "1 5\n"
     ]
    }
   ],
   "source": [
    "x, *_, y = [1, 2, 3, 4, 5]\n",
    "print(x, y)"
   ]
  },
  {
   "cell_type": "markdown",
   "id": "4a481b2e",
   "metadata": {},
   "source": [
    "## Exercise 1 :  A better calculator I"
   ]
  },
  {
   "cell_type": "code",
   "execution_count": 35,
   "id": "190d199c",
   "metadata": {},
   "outputs": [
    {
     "name": "stdout",
     "output_type": "stream",
     "text": [
      "[100 100 100 100 100]\n",
      "[-28 -32 -12  52 -46]\n",
      "[2304 2244 2464 1824 1971]\n",
      "[0.5625     0.51515152 0.78571429 3.16666667 0.36986301]\n"
     ]
    }
   ],
   "source": [
    "x=np.array([36, 34, 44, 76, 27])\n",
    "y=np.array([64, 66, 56, 24, 73])\n",
    "\n",
    "\n",
    "def add(x, y):\n",
    "    return x+y\n",
    "\n",
    "print(add(x, y))\n",
    "\n",
    "def subtract(x, y):\n",
    "    return x-y\n",
    "\n",
    "print(subtract(x, y))\n",
    "\n",
    "def multiply(x, y):\n",
    "    return x*y\n",
    "\n",
    "print(multiply(x, y))\n",
    "\n",
    "def divide(x, y):\n",
    "    return x/y\n",
    "    if x == 0  or y == 0:\n",
    "        exit()\n",
    "    else:\n",
    "        return x/y\n",
    "    \n",
    "    assert x >= 0, \"x is becoming negative!\"\n",
    "    \n",
    "    assert y >= 0, \"y is becoming negative!\"\n",
    "\n",
    "print(divide(x, y))\n",
    "    \n",
    "\n",
    "\n",
    "\n",
    "\n"
   ]
  },
  {
   "cell_type": "markdown",
   "id": "d909d188",
   "metadata": {},
   "source": [
    "## Exercise 2 :  A better calculator II"
   ]
  },
  {
   "cell_type": "code",
   "execution_count": 44,
   "id": "91210a22",
   "metadata": {},
   "outputs": [
    {
     "name": "stdout",
     "output_type": "stream",
     "text": [
      "[100 100 100 100 100]\n",
      "[-28 -32 -12  52 -46]\n",
      "[2304 2244 2464 1824 1971]\n",
      "[0.5625     0.51515152 0.78571429 3.16666667 0.36986301]\n"
     ]
    }
   ],
   "source": [
    "\n",
    "x=np.array([36, 34, 44, 76, 27])\n",
    "y=np.array([64, 66, 56, 24, 73])\n",
    "\n",
    "    \n",
    "def add(x, y):\n",
    "    try:\n",
    "        return x+y\n",
    "    except:\n",
    "        print(f\"Oh oh! I cannot add\")\n",
    "\n",
    "print(add(x, y))\n",
    "\n",
    "def subtract(x, y):\n",
    "    try:\n",
    "        return x-y\n",
    "    except:\n",
    "        print(f\"Oh oh! I cannot subtract\")\n",
    "\n",
    "print(subtract(x, y))\n",
    "\n",
    "def multiply(x, y):\n",
    "    try:\n",
    "        return x*y\n",
    "    except:\n",
    "        print(f\"Oh oh! I cannot mulitply\")\n",
    "\n",
    "print(multiply(x, y))\n",
    "\n",
    "def divide(x, y):\n",
    "    return x/y\n",
    "    try:\n",
    "        if x == 0  or y == 0:\n",
    "            exit()\n",
    "        else:\n",
    "            return x/y\n",
    "    except:\n",
    "        print(f\"Oh oh! I cannot divide\")\n",
    "    \n",
    "\n",
    "print(divide(x, y))\n",
    "\n"
   ]
  }
 ],
 "metadata": {
  "kernelspec": {
   "display_name": "Python 3 (ipykernel)",
   "language": "python",
   "name": "python3"
  },
  "language_info": {
   "codemirror_mode": {
    "name": "ipython",
    "version": 3
   },
   "file_extension": ".py",
   "mimetype": "text/x-python",
   "name": "python",
   "nbconvert_exporter": "python",
   "pygments_lexer": "ipython3",
   "version": "3.9.13"
  },
  "toc": {
   "base_numbering": 1,
   "nav_menu": {},
   "number_sections": true,
   "sideBar": true,
   "skip_h1_title": false,
   "title_cell": "Table of Contents",
   "title_sidebar": "Contents",
   "toc_cell": false,
   "toc_position": {},
   "toc_section_display": true,
   "toc_window_display": false
  },
  "varInspector": {
   "cols": {
    "lenName": 16,
    "lenType": 16,
    "lenVar": 40
   },
   "kernels_config": {
    "python": {
     "delete_cmd_postfix": "",
     "delete_cmd_prefix": "del ",
     "library": "var_list.py",
     "varRefreshCmd": "print(var_dic_list())"
    },
    "r": {
     "delete_cmd_postfix": ") ",
     "delete_cmd_prefix": "rm(",
     "library": "var_list.r",
     "varRefreshCmd": "cat(var_dic_list()) "
    }
   },
   "types_to_exclude": [
    "module",
    "function",
    "builtin_function_or_method",
    "instance",
    "_Feature"
   ],
   "window_display": false
  },
  "vscode": {
   "interpreter": {
    "hash": "31f2aee4e71d21fbe5cf8b01ff0e069b9275f58929596ceb00d14d90e3e16cd6"
   }
  }
 },
 "nbformat": 4,
 "nbformat_minor": 5
}
