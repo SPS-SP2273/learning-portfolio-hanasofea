{
 "cells": [
  {
   "cell_type": "markdown",
   "id": "123456",
   "metadata": {},
   "source": [
    "<div style=\"text-align:left;font-size:2em\"><span style=\"font-weight:bolder;font-size:1.25em\">SP2273 | Learning Portfolio</span><br><br><span style=\"font-weight:bold;color:darkred\">Just Exercises (I)</span></div>"
   ]
  },
  {
   "cell_type": "markdown",
   "id": "02d8cdcb",
   "metadata": {},
   "source": [
    "## Exercise 1 :  F-strings to the rescue"
   ]
  },
  {
   "cell_type": "code",
   "execution_count": 1,
   "id": "8c7dcf9f",
   "metadata": {},
   "outputs": [
    {
     "name": "stdout",
     "output_type": "stream",
     "text": [
      "00001\n",
      "00002\n",
      "00003\n",
      "00004\n",
      "00005\n",
      "00006\n",
      "00007\n",
      "00008\n",
      "00009\n",
      "00010\n"
     ]
    }
   ],
   "source": [
    "for i in range(1, 11):\n",
    "    print(f\"{i:05}\")"
   ]
  },
  {
   "cell_type": "code",
   "execution_count": 2,
   "id": "fb5271a8",
   "metadata": {},
   "outputs": [
    {
     "name": "stdout",
     "output_type": "stream",
     "text": [
      "001          +\n",
      "002         ++\n",
      "003        +++\n",
      "004       ++++\n",
      "005      +++++\n",
      "006     ++++++\n",
      "007    +++++++\n",
      "008   ++++++++\n",
      "009  +++++++++\n",
      "010 ++++++++++\n"
     ]
    }
   ],
   "source": [
    "for i in range(1, 11):\n",
    "    print(f\"{i:03} {'+'*i:>10}\")"
   ]
  },
  {
   "cell_type": "code",
   "execution_count": 3,
   "id": "ebfe20f3",
   "metadata": {
    "scrolled": true
   },
   "outputs": [
    {
     "name": "stdout",
     "output_type": "stream",
     "text": [
      "001 -+++++++++\n",
      "002 --++++++++\n",
      "003 ---+++++++\n",
      "004 ----++++++\n",
      "005 -----+++++\n",
      "006 ------++++\n",
      "007 -------+++\n",
      "008 --------++\n",
      "009 ---------+\n",
      "010 ----------\n"
     ]
    }
   ],
   "source": [
    "for i in range(1, 11):\n",
    "    print(f\"{i:03} {'-'*i}{'+'*(10-i)}\")"
   ]
  },
  {
   "cell_type": "code",
   "execution_count": 4,
   "id": "ff3e7760",
   "metadata": {},
   "outputs": [
    {
     "name": "stdout",
     "output_type": "stream",
     "text": [
      "10\n",
      "100\n",
      "1000\n",
      "20\n",
      "200\n",
      "2000\n",
      "30\n",
      "300\n",
      "3000\n"
     ]
    }
   ],
   "source": [
    "test1 = [1, 2, 3]\n",
    "test2 = [10, 100, 1000]\n",
    "for i in test1:\n",
    "    for j in test2:\n",
    "        print(i*j)"
   ]
  },
  {
   "cell_type": "code",
   "execution_count": 5,
   "id": "a50a8704",
   "metadata": {},
   "outputs": [
    {
     "name": "stdout",
     "output_type": "stream",
     "text": [
      "['bruce_exploits.txt', 'bruce_enemies.txt', 'bruce_friends.txt', 'natasha_exploits.txt', 'natasha_enemies.txt', 'natasha_friends.txt', 'tony_exploits.txt', 'tony_enemies.txt', 'tony_friends.txt']\n"
     ]
    }
   ],
   "source": [
    "x =[]\n",
    "real_names = ['bruce', 'natasha', 'tony']\n",
    "real_position = ['exploits', 'enemies', 'friends']\n",
    "\n",
    "\n",
    "\n",
    "for name in real_names: \n",
    "    for position in real_position:\n",
    "        x.append(f\"{name}_{position}.txt\")\n",
    "print(x)\n",
    "    \n",
    "\n"
   ]
  },
  {
   "cell_type": "code",
   "execution_count": 6,
   "id": "5d87a684",
   "metadata": {},
   "outputs": [
    {
     "name": "stdout",
     "output_type": "stream",
     "text": [
      "['data_sg_exp-01_trial-001', 'data_sg_exp-01_trial-002', 'data_sg_exp-01_trial-003', 'data_sg_exp-01_trial-004', 'data_sg_exp-01_trial-005', 'data_sg_exp-01_trial-006', 'data_sg_exp-01_trial-007', 'data_sg_exp-01_trial-008', 'data_sg_exp-01_trial-009', 'data_sg_exp-01_trial-010', 'data_sg_exp-01_trial-011', 'data_sg_exp-01_trial-012', 'data_sg_exp-01_trial-013', 'data_sg_exp-01_trial-014', 'data_sg_exp-01_trial-015', 'data_sg_exp-01_trial-016', 'data_sg_exp-01_trial-017', 'data_sg_exp-01_trial-018', 'data_sg_exp-01_trial-019', 'data_sg_exp-01_trial-020', 'data_sg_exp-01_trial-021', 'data_sg_exp-01_trial-022', 'data_sg_exp-01_trial-023', 'data_sg_exp-01_trial-024', 'data_sg_exp-01_trial-025', 'data_sg_exp-01_trial-026', 'data_sg_exp-01_trial-027', 'data_sg_exp-01_trial-028', 'data_sg_exp-01_trial-029', 'data_sg_exp-01_trial-030', 'data_sg_exp-01_trial-031', 'data_sg_exp-01_trial-032', 'data_sg_exp-01_trial-033', 'data_sg_exp-01_trial-034', 'data_sg_exp-01_trial-035', 'data_sg_exp-01_trial-036', 'data_sg_exp-01_trial-037', 'data_sg_exp-01_trial-038', 'data_sg_exp-01_trial-039', 'data_sg_exp-01_trial-040', 'data_sg_exp-01_trial-041', 'data_sg_exp-01_trial-042', 'data_sg_exp-01_trial-043', 'data_sg_exp-01_trial-044', 'data_sg_exp-01_trial-045', 'data_sg_exp-01_trial-046', 'data_sg_exp-01_trial-047', 'data_sg_exp-01_trial-048', 'data_sg_exp-01_trial-049', 'data_sg_exp-01_trial-050', 'data_sg_exp-02_trial-001', 'data_sg_exp-02_trial-002', 'data_sg_exp-02_trial-003', 'data_sg_exp-02_trial-004', 'data_sg_exp-02_trial-005', 'data_sg_exp-02_trial-006', 'data_sg_exp-02_trial-007', 'data_sg_exp-02_trial-008', 'data_sg_exp-02_trial-009', 'data_sg_exp-02_trial-010', 'data_sg_exp-02_trial-011', 'data_sg_exp-02_trial-012', 'data_sg_exp-02_trial-013', 'data_sg_exp-02_trial-014', 'data_sg_exp-02_trial-015', 'data_sg_exp-02_trial-016', 'data_sg_exp-02_trial-017', 'data_sg_exp-02_trial-018', 'data_sg_exp-02_trial-019', 'data_sg_exp-02_trial-020', 'data_sg_exp-02_trial-021', 'data_sg_exp-02_trial-022', 'data_sg_exp-02_trial-023', 'data_sg_exp-02_trial-024', 'data_sg_exp-02_trial-025', 'data_sg_exp-02_trial-026', 'data_sg_exp-02_trial-027', 'data_sg_exp-02_trial-028', 'data_sg_exp-02_trial-029', 'data_sg_exp-02_trial-030', 'data_sg_exp-02_trial-031', 'data_sg_exp-02_trial-032', 'data_sg_exp-02_trial-033', 'data_sg_exp-02_trial-034', 'data_sg_exp-02_trial-035', 'data_sg_exp-02_trial-036', 'data_sg_exp-02_trial-037', 'data_sg_exp-02_trial-038', 'data_sg_exp-02_trial-039', 'data_sg_exp-02_trial-040', 'data_sg_exp-02_trial-041', 'data_sg_exp-02_trial-042', 'data_sg_exp-02_trial-043', 'data_sg_exp-02_trial-044', 'data_sg_exp-02_trial-045', 'data_sg_exp-02_trial-046', 'data_sg_exp-02_trial-047', 'data_sg_exp-02_trial-048', 'data_sg_exp-02_trial-049', 'data_sg_exp-02_trial-050', 'data_sg_exp-03_trial-001', 'data_sg_exp-03_trial-002', 'data_sg_exp-03_trial-003', 'data_sg_exp-03_trial-004', 'data_sg_exp-03_trial-005', 'data_sg_exp-03_trial-006', 'data_sg_exp-03_trial-007', 'data_sg_exp-03_trial-008', 'data_sg_exp-03_trial-009', 'data_sg_exp-03_trial-010', 'data_sg_exp-03_trial-011', 'data_sg_exp-03_trial-012', 'data_sg_exp-03_trial-013', 'data_sg_exp-03_trial-014', 'data_sg_exp-03_trial-015', 'data_sg_exp-03_trial-016', 'data_sg_exp-03_trial-017', 'data_sg_exp-03_trial-018', 'data_sg_exp-03_trial-019', 'data_sg_exp-03_trial-020', 'data_sg_exp-03_trial-021', 'data_sg_exp-03_trial-022', 'data_sg_exp-03_trial-023', 'data_sg_exp-03_trial-024', 'data_sg_exp-03_trial-025', 'data_sg_exp-03_trial-026', 'data_sg_exp-03_trial-027', 'data_sg_exp-03_trial-028', 'data_sg_exp-03_trial-029', 'data_sg_exp-03_trial-030', 'data_sg_exp-03_trial-031', 'data_sg_exp-03_trial-032', 'data_sg_exp-03_trial-033', 'data_sg_exp-03_trial-034', 'data_sg_exp-03_trial-035', 'data_sg_exp-03_trial-036', 'data_sg_exp-03_trial-037', 'data_sg_exp-03_trial-038', 'data_sg_exp-03_trial-039', 'data_sg_exp-03_trial-040', 'data_sg_exp-03_trial-041', 'data_sg_exp-03_trial-042', 'data_sg_exp-03_trial-043', 'data_sg_exp-03_trial-044', 'data_sg_exp-03_trial-045', 'data_sg_exp-03_trial-046', 'data_sg_exp-03_trial-047', 'data_sg_exp-03_trial-048', 'data_sg_exp-03_trial-049', 'data_sg_exp-03_trial-050', 'data_gb_exp-01_trial-001', 'data_gb_exp-01_trial-002', 'data_gb_exp-01_trial-003', 'data_gb_exp-01_trial-004', 'data_gb_exp-01_trial-005', 'data_gb_exp-01_trial-006', 'data_gb_exp-01_trial-007', 'data_gb_exp-01_trial-008', 'data_gb_exp-01_trial-009', 'data_gb_exp-01_trial-010', 'data_gb_exp-01_trial-011', 'data_gb_exp-01_trial-012', 'data_gb_exp-01_trial-013', 'data_gb_exp-01_trial-014', 'data_gb_exp-01_trial-015', 'data_gb_exp-01_trial-016', 'data_gb_exp-01_trial-017', 'data_gb_exp-01_trial-018', 'data_gb_exp-01_trial-019', 'data_gb_exp-01_trial-020', 'data_gb_exp-01_trial-021', 'data_gb_exp-01_trial-022', 'data_gb_exp-01_trial-023', 'data_gb_exp-01_trial-024', 'data_gb_exp-01_trial-025', 'data_gb_exp-01_trial-026', 'data_gb_exp-01_trial-027', 'data_gb_exp-01_trial-028', 'data_gb_exp-01_trial-029', 'data_gb_exp-01_trial-030', 'data_gb_exp-01_trial-031', 'data_gb_exp-01_trial-032', 'data_gb_exp-01_trial-033', 'data_gb_exp-01_trial-034', 'data_gb_exp-01_trial-035', 'data_gb_exp-01_trial-036', 'data_gb_exp-01_trial-037', 'data_gb_exp-01_trial-038', 'data_gb_exp-01_trial-039', 'data_gb_exp-01_trial-040', 'data_gb_exp-01_trial-041', 'data_gb_exp-01_trial-042', 'data_gb_exp-01_trial-043', 'data_gb_exp-01_trial-044', 'data_gb_exp-01_trial-045', 'data_gb_exp-01_trial-046', 'data_gb_exp-01_trial-047', 'data_gb_exp-01_trial-048', 'data_gb_exp-01_trial-049', 'data_gb_exp-01_trial-050', 'data_gb_exp-02_trial-001', 'data_gb_exp-02_trial-002', 'data_gb_exp-02_trial-003', 'data_gb_exp-02_trial-004', 'data_gb_exp-02_trial-005', 'data_gb_exp-02_trial-006', 'data_gb_exp-02_trial-007', 'data_gb_exp-02_trial-008', 'data_gb_exp-02_trial-009', 'data_gb_exp-02_trial-010', 'data_gb_exp-02_trial-011', 'data_gb_exp-02_trial-012', 'data_gb_exp-02_trial-013', 'data_gb_exp-02_trial-014', 'data_gb_exp-02_trial-015', 'data_gb_exp-02_trial-016', 'data_gb_exp-02_trial-017', 'data_gb_exp-02_trial-018', 'data_gb_exp-02_trial-019', 'data_gb_exp-02_trial-020', 'data_gb_exp-02_trial-021', 'data_gb_exp-02_trial-022', 'data_gb_exp-02_trial-023', 'data_gb_exp-02_trial-024', 'data_gb_exp-02_trial-025', 'data_gb_exp-02_trial-026', 'data_gb_exp-02_trial-027', 'data_gb_exp-02_trial-028', 'data_gb_exp-02_trial-029', 'data_gb_exp-02_trial-030', 'data_gb_exp-02_trial-031', 'data_gb_exp-02_trial-032', 'data_gb_exp-02_trial-033', 'data_gb_exp-02_trial-034', 'data_gb_exp-02_trial-035', 'data_gb_exp-02_trial-036', 'data_gb_exp-02_trial-037', 'data_gb_exp-02_trial-038', 'data_gb_exp-02_trial-039', 'data_gb_exp-02_trial-040', 'data_gb_exp-02_trial-041', 'data_gb_exp-02_trial-042', 'data_gb_exp-02_trial-043', 'data_gb_exp-02_trial-044', 'data_gb_exp-02_trial-045', 'data_gb_exp-02_trial-046', 'data_gb_exp-02_trial-047', 'data_gb_exp-02_trial-048', 'data_gb_exp-02_trial-049', 'data_gb_exp-02_trial-050', 'data_gb_exp-03_trial-001', 'data_gb_exp-03_trial-002', 'data_gb_exp-03_trial-003', 'data_gb_exp-03_trial-004', 'data_gb_exp-03_trial-005', 'data_gb_exp-03_trial-006', 'data_gb_exp-03_trial-007', 'data_gb_exp-03_trial-008', 'data_gb_exp-03_trial-009', 'data_gb_exp-03_trial-010', 'data_gb_exp-03_trial-011', 'data_gb_exp-03_trial-012', 'data_gb_exp-03_trial-013', 'data_gb_exp-03_trial-014', 'data_gb_exp-03_trial-015', 'data_gb_exp-03_trial-016', 'data_gb_exp-03_trial-017', 'data_gb_exp-03_trial-018', 'data_gb_exp-03_trial-019', 'data_gb_exp-03_trial-020', 'data_gb_exp-03_trial-021', 'data_gb_exp-03_trial-022', 'data_gb_exp-03_trial-023', 'data_gb_exp-03_trial-024', 'data_gb_exp-03_trial-025', 'data_gb_exp-03_trial-026', 'data_gb_exp-03_trial-027', 'data_gb_exp-03_trial-028', 'data_gb_exp-03_trial-029', 'data_gb_exp-03_trial-030', 'data_gb_exp-03_trial-031', 'data_gb_exp-03_trial-032', 'data_gb_exp-03_trial-033', 'data_gb_exp-03_trial-034', 'data_gb_exp-03_trial-035', 'data_gb_exp-03_trial-036', 'data_gb_exp-03_trial-037', 'data_gb_exp-03_trial-038', 'data_gb_exp-03_trial-039', 'data_gb_exp-03_trial-040', 'data_gb_exp-03_trial-041', 'data_gb_exp-03_trial-042', 'data_gb_exp-03_trial-043', 'data_gb_exp-03_trial-044', 'data_gb_exp-03_trial-045', 'data_gb_exp-03_trial-046', 'data_gb_exp-03_trial-047', 'data_gb_exp-03_trial-048', 'data_gb_exp-03_trial-049', 'data_gb_exp-03_trial-050', 'data_us_exp-01_trial-001', 'data_us_exp-01_trial-002', 'data_us_exp-01_trial-003', 'data_us_exp-01_trial-004', 'data_us_exp-01_trial-005', 'data_us_exp-01_trial-006', 'data_us_exp-01_trial-007', 'data_us_exp-01_trial-008', 'data_us_exp-01_trial-009', 'data_us_exp-01_trial-010', 'data_us_exp-01_trial-011', 'data_us_exp-01_trial-012', 'data_us_exp-01_trial-013', 'data_us_exp-01_trial-014', 'data_us_exp-01_trial-015', 'data_us_exp-01_trial-016', 'data_us_exp-01_trial-017', 'data_us_exp-01_trial-018', 'data_us_exp-01_trial-019', 'data_us_exp-01_trial-020', 'data_us_exp-01_trial-021', 'data_us_exp-01_trial-022', 'data_us_exp-01_trial-023', 'data_us_exp-01_trial-024', 'data_us_exp-01_trial-025', 'data_us_exp-01_trial-026', 'data_us_exp-01_trial-027', 'data_us_exp-01_trial-028', 'data_us_exp-01_trial-029', 'data_us_exp-01_trial-030', 'data_us_exp-01_trial-031', 'data_us_exp-01_trial-032', 'data_us_exp-01_trial-033', 'data_us_exp-01_trial-034', 'data_us_exp-01_trial-035', 'data_us_exp-01_trial-036', 'data_us_exp-01_trial-037', 'data_us_exp-01_trial-038', 'data_us_exp-01_trial-039', 'data_us_exp-01_trial-040', 'data_us_exp-01_trial-041', 'data_us_exp-01_trial-042', 'data_us_exp-01_trial-043', 'data_us_exp-01_trial-044', 'data_us_exp-01_trial-045', 'data_us_exp-01_trial-046', 'data_us_exp-01_trial-047', 'data_us_exp-01_trial-048', 'data_us_exp-01_trial-049', 'data_us_exp-01_trial-050', 'data_us_exp-02_trial-001', 'data_us_exp-02_trial-002', 'data_us_exp-02_trial-003', 'data_us_exp-02_trial-004', 'data_us_exp-02_trial-005', 'data_us_exp-02_trial-006', 'data_us_exp-02_trial-007', 'data_us_exp-02_trial-008', 'data_us_exp-02_trial-009', 'data_us_exp-02_trial-010', 'data_us_exp-02_trial-011', 'data_us_exp-02_trial-012', 'data_us_exp-02_trial-013', 'data_us_exp-02_trial-014', 'data_us_exp-02_trial-015', 'data_us_exp-02_trial-016', 'data_us_exp-02_trial-017', 'data_us_exp-02_trial-018', 'data_us_exp-02_trial-019', 'data_us_exp-02_trial-020', 'data_us_exp-02_trial-021', 'data_us_exp-02_trial-022', 'data_us_exp-02_trial-023', 'data_us_exp-02_trial-024', 'data_us_exp-02_trial-025', 'data_us_exp-02_trial-026', 'data_us_exp-02_trial-027', 'data_us_exp-02_trial-028', 'data_us_exp-02_trial-029', 'data_us_exp-02_trial-030', 'data_us_exp-02_trial-031', 'data_us_exp-02_trial-032', 'data_us_exp-02_trial-033', 'data_us_exp-02_trial-034', 'data_us_exp-02_trial-035', 'data_us_exp-02_trial-036', 'data_us_exp-02_trial-037', 'data_us_exp-02_trial-038', 'data_us_exp-02_trial-039', 'data_us_exp-02_trial-040', 'data_us_exp-02_trial-041', 'data_us_exp-02_trial-042', 'data_us_exp-02_trial-043', 'data_us_exp-02_trial-044', 'data_us_exp-02_trial-045', 'data_us_exp-02_trial-046', 'data_us_exp-02_trial-047', 'data_us_exp-02_trial-048', 'data_us_exp-02_trial-049', 'data_us_exp-02_trial-050', 'data_us_exp-03_trial-001', 'data_us_exp-03_trial-002', 'data_us_exp-03_trial-003', 'data_us_exp-03_trial-004', 'data_us_exp-03_trial-005', 'data_us_exp-03_trial-006', 'data_us_exp-03_trial-007', 'data_us_exp-03_trial-008', 'data_us_exp-03_trial-009', 'data_us_exp-03_trial-010', 'data_us_exp-03_trial-011', 'data_us_exp-03_trial-012', 'data_us_exp-03_trial-013', 'data_us_exp-03_trial-014', 'data_us_exp-03_trial-015', 'data_us_exp-03_trial-016', 'data_us_exp-03_trial-017', 'data_us_exp-03_trial-018', 'data_us_exp-03_trial-019', 'data_us_exp-03_trial-020', 'data_us_exp-03_trial-021', 'data_us_exp-03_trial-022', 'data_us_exp-03_trial-023', 'data_us_exp-03_trial-024', 'data_us_exp-03_trial-025', 'data_us_exp-03_trial-026', 'data_us_exp-03_trial-027', 'data_us_exp-03_trial-028', 'data_us_exp-03_trial-029', 'data_us_exp-03_trial-030', 'data_us_exp-03_trial-031', 'data_us_exp-03_trial-032', 'data_us_exp-03_trial-033', 'data_us_exp-03_trial-034', 'data_us_exp-03_trial-035', 'data_us_exp-03_trial-036', 'data_us_exp-03_trial-037', 'data_us_exp-03_trial-038', 'data_us_exp-03_trial-039', 'data_us_exp-03_trial-040', 'data_us_exp-03_trial-041', 'data_us_exp-03_trial-042', 'data_us_exp-03_trial-043', 'data_us_exp-03_trial-044', 'data_us_exp-03_trial-045', 'data_us_exp-03_trial-046', 'data_us_exp-03_trial-047', 'data_us_exp-03_trial-048', 'data_us_exp-03_trial-049', 'data_us_exp-03_trial-050']\n"
     ]
    }
   ],
   "source": [
    "x = []\n",
    "data_type = ['data_sg', 'data_gb', 'data_us']\n",
    "experiment_number = ['exp-01', 'exp-02', 'exp-03']\n",
    "\n",
    "for data in data_type:\n",
    "    for number in experiment_number:\n",
    "        for i in range(1, 51):\n",
    "            x.append(f\"{data}_{number}_trial-{i:03}\")\n",
    "print(x)\n",
    "            \n",
    "            \n"
   ]
  },
  {
   "cell_type": "markdown",
   "id": "4d2cdd43",
   "metadata": {},
   "source": [
    "## Exercise 2 :  Tutti frutti"
   ]
  },
  {
   "cell_type": "code",
   "execution_count": 7,
   "id": "f892835a",
   "metadata": {},
   "outputs": [
    {
     "data": {
      "text/plain": [
       "True"
      ]
     },
     "execution_count": 7,
     "metadata": {},
     "output_type": "execute_result"
    }
   ],
   "source": [
    "fruits = [\"apple\", \"banana\", \"pineapple\", \"jackfruit\",\n",
    "        \"peach\", \"durian\", \"watermelon\", \"mango\",\n",
    "        \"strawberry\", \"passionfruit\"]\n",
    "\"mango\" in fruits\n",
    "\n",
    "\n"
   ]
  },
  {
   "cell_type": "code",
   "execution_count": 8,
   "id": "00ef5dc6",
   "metadata": {},
   "outputs": [
    {
     "name": "stdout",
     "output_type": "stream",
     "text": [
      "a,e\n",
      "b,a\n",
      "p,e\n",
      "j,t\n",
      "p,h\n",
      "d,n\n",
      "w,n\n",
      "m,o\n",
      "s,y\n",
      "p,t\n"
     ]
    }
   ],
   "source": [
    "for fruit in fruits: \n",
    "    print(f\"{fruit[0]},{fruit[-1]}\")"
   ]
  },
  {
   "cell_type": "code",
   "execution_count": 9,
   "id": "80ab0f10",
   "metadata": {},
   "outputs": [
    {
     "name": "stdout",
     "output_type": "stream",
     "text": [
      "apple\n",
      "banana\n",
      "PINEAPPLE\n",
      "jackfruit\n",
      "PEACH\n",
      "durian\n",
      "watermelon\n",
      "mango\n",
      "strawberry\n",
      "PASSIONFRUIT\n"
     ]
    }
   ],
   "source": [
    "for modified_fruits in fruits:\n",
    "    if modified_fruits[0] == \"p\":\n",
    "       print(f\"{modified_fruits.upper()}\")\n",
    "    else:\n",
    "        print(f\"{modified_fruits.lower()}\")"
   ]
  },
  {
   "cell_type": "code",
   "execution_count": 10,
   "id": "40e241a5",
   "metadata": {},
   "outputs": [
    {
     "data": {
      "text/plain": [
       "['apple',\n",
       " 'banana',\n",
       " 'pineapple',\n",
       " 'jackfruit',\n",
       " 'peach',\n",
       " 'durian',\n",
       " 'watermelon',\n",
       " 'mango',\n",
       " 'strawberry',\n",
       " 'passionfruit',\n",
       " 'dragon fruit',\n",
       " 'apricots',\n",
       " 'oranges']"
      ]
     },
     "execution_count": 10,
     "metadata": {},
     "output_type": "execute_result"
    }
   ],
   "source": [
    "[\"dragon fruit\", \"apricots\", \"oranges\"]\n",
    "\n",
    "fruits = [\"apple\", \"banana\", \"pineapple\", \"jackfruit\",\n",
    "        \"peach\", \"durian\", \"watermelon\", \"mango\",\n",
    "        \"strawberry\", \"passionfruit\"]\n",
    "fruits.append(\"dragon fruit\")\n",
    "fruits.append(\"apricots\")\n",
    "fruits.append(\"oranges\")\n",
    "fruits\n",
    "\n"
   ]
  },
  {
   "cell_type": "code",
   "execution_count": 11,
   "id": "889a64f2",
   "metadata": {},
   "outputs": [
    {
     "data": {
      "text/plain": [
       "['dragon fruit',\n",
       " 'apricots',\n",
       " 'oranges',\n",
       " 'apple',\n",
       " 'banana',\n",
       " 'pineapple',\n",
       " 'jackfruit',\n",
       " 'peach',\n",
       " 'durian',\n",
       " 'watermelon',\n",
       " 'mango',\n",
       " 'strawberry',\n",
       " 'passionfruit']"
      ]
     },
     "execution_count": 11,
     "metadata": {},
     "output_type": "execute_result"
    }
   ],
   "source": [
    "fruits = [\"apple\", \"banana\", \"pineapple\", \"jackfruit\",\n",
    "        \"peach\", \"durian\", \"watermelon\", \"mango\",\n",
    "        \"strawberry\", \"passionfruit\"]\n",
    "\n",
    "fruits.insert(0, \"dragon fruit\")\n",
    "fruits.insert(1, \"apricots\")\n",
    "fruits.insert(2, \"oranges\")\n",
    "fruits"
   ]
  },
  {
   "cell_type": "code",
   "execution_count": 12,
   "id": "6a1d152e",
   "metadata": {},
   "outputs": [
    {
     "data": {
      "text/plain": [
       "['apple',\n",
       " 'banana',\n",
       " 'pineapple',\n",
       " 'jackfruit',\n",
       " 'peach',\n",
       " 'dragon fruit',\n",
       " 'apricots',\n",
       " 'oranges',\n",
       " 'durian',\n",
       " 'watermelon',\n",
       " 'mango',\n",
       " 'strawberry',\n",
       " 'passionfruit']"
      ]
     },
     "execution_count": 12,
     "metadata": {},
     "output_type": "execute_result"
    }
   ],
   "source": [
    "fruits = [\"apple\", \"banana\", \"pineapple\", \"jackfruit\",\n",
    "        \"peach\", \"durian\", \"watermelon\", \"mango\",\n",
    "        \"strawberry\", \"passionfruit\"]\n",
    "\n",
    "fruits.insert(5, \"dragon fruit\")\n",
    "fruits.insert(6, \"apricots\")\n",
    "fruits.insert(7, \"oranges\")\n",
    "fruits"
   ]
  },
  {
   "cell_type": "code",
   "execution_count": 13,
   "id": "b532963c",
   "metadata": {},
   "outputs": [
    {
     "data": {
      "text/plain": [
       "['pineapple', 'jackfruit', 'watermelon', 'strawberry', 'passionfruit']"
      ]
     },
     "execution_count": 13,
     "metadata": {},
     "output_type": "execute_result"
    }
   ],
   "source": [
    "fruits = [\"apple\", \"banana\", \"pineapple\", \"jackfruit\",\n",
    "        \"peach\", \"durian\", \"watermelon\", \"mango\",\n",
    "        \"strawberry\", \"passionfruit\"]\n",
    "[x for x in fruits if len(x) >= 7]"
   ]
  },
  {
   "cell_type": "markdown",
   "id": "ef37c076",
   "metadata": {},
   "source": [
    "## Exercise 3 :  Ciao Fibonacci"
   ]
  },
  {
   "cell_type": "code",
   "execution_count": 14,
   "id": "b02025d1",
   "metadata": {},
   "outputs": [
    {
     "name": "stdout",
     "output_type": "stream",
     "text": [
      "15\n",
      "[0, 1, 1, 2, 3, 5, 8, 13, 21, 34, 55, 89, 144, 233, 377]\n"
     ]
    }
   ],
   "source": [
    "num = int(input())\n",
    "\n",
    "fibonacci = [0,1]\n",
    "\n",
    "if num>2:\n",
    "     for i in range(2, num):\n",
    "            \n",
    "            next = fibonacci[i-1] + fibonacci[i-2]\n",
    "            fibonacci.append(next)\n",
    "    \n",
    "            \n",
    "print(fibonacci)\n",
    "    \n",
    "\n"
   ]
  },
  {
   "cell_type": "markdown",
   "id": "ae043994",
   "metadata": {},
   "source": [
    "## Exercise 4 :  A function for Fibonacci"
   ]
  },
  {
   "cell_type": "code",
   "execution_count": 172,
   "id": "ea596ec3",
   "metadata": {},
   "outputs": [
    {
     "name": "stdout",
     "output_type": "stream",
     "text": [
      "error\n"
     ]
    }
   ],
   "source": [
    "def fibonacci(n): \n",
    "    if n == 0:\n",
    "        return \"error\"\n",
    "    elif n == 1:\n",
    "        return [0]\n",
    "    elif n == 2:\n",
    "        return [0, 1]\n",
    "    else:\n",
    "        lst = fibonacci(n-1)\n",
    "        lst.append(lst[-1] + lst[-2])\n",
    "        return lst\n",
    "\n",
    "print(fibonacci(0))"
   ]
  },
  {
   "cell_type": "code",
   "execution_count": 173,
   "id": "23c4e517",
   "metadata": {},
   "outputs": [
    {
     "name": "stdout",
     "output_type": "stream",
     "text": [
      "[0, 1, 1, 2, 3, 5, 8, 13, 21, 34, 55, 89, 144]\n"
     ]
    }
   ],
   "source": [
    "def fibonacci(n): \n",
    "    if n == 0:\n",
    "        return \"error\"\n",
    "    elif n == 1:\n",
    "        return [0]\n",
    "    elif n == 2:\n",
    "        return [0, 1]\n",
    "    else:\n",
    "        lst = fibonacci(n-1)\n",
    "        lst.append(lst[-1] + lst[-2])\n",
    "        return lst\n",
    "\n",
    "print(fibonacci(13))"
   ]
  },
  {
   "cell_type": "markdown",
   "id": "d772fbbd",
   "metadata": {},
   "source": [
    "## Exercise 5 :  max_info() without NumPy"
   ]
  },
  {
   "cell_type": "code",
   "execution_count": 60,
   "id": "9f990142",
   "metadata": {
    "code_folding": []
   },
   "outputs": [
    {
     "name": "stdout",
     "output_type": "stream",
     "text": [
      "(83, 2)\n"
     ]
    }
   ],
   "source": [
    "numbers = [40, 27, 83, 44, 74, 51, 76, 77, 10, 49]\n",
    "def max_info(numbers):\n",
    "    my_max = numbers[0]\n",
    "    my_max_index = 0\n",
    "    for x, y in enumerate(numbers):\n",
    "        if y > my_max:\n",
    "            my_max = y\n",
    "            my_max_index = x\n",
    "    return my_max, my_max_index\n",
    "    \n",
    "print(max_info(numbers))\n",
    "\n"
   ]
  },
  {
   "cell_type": "markdown",
   "id": "f9b1b191",
   "metadata": {},
   "source": [
    "## Exercise 6 :  Take count"
   ]
  },
  {
   "cell_type": "code",
   "execution_count": 138,
   "id": "1c0bd27c",
   "metadata": {},
   "outputs": [
    {
     "name": "stdout",
     "output_type": "stream",
     "text": [
      "['T', 'T', 'T', 'T', 'T', 'T', 'T', 'T', 'T', 'T', 'T', 'T', 'T', 'T', 'T', 'T', 'T', 'T', 'T', 'T', 'T', 'T', 'T', 'T', 'T', 'T', 'T', 'T', 'T', 'T', 'T', 'T', 'T', 'T', 'T', 'T', 'T', 'T', 'T', 'T', 'T', 'T', 'T', 'T', 'T', 'T', 'T', 'T', 'T', 'T', 'T', 'T', 'T', 'T', 'T', 'T', 'T', 'T', 'T', 'T', 'T', 'T', 'T', 'T', 'T', 'T', 'T', 'T', 'T', 'T', 'T', 'T', 'T', 'T', 'T', 'T', 'T', 'T', 'T', 'T', 'T', 'T', 'T', 'T', 'T', 'T', 'T', 'T', 'T', 'T', 'T', 'T', 'T', 'T', 'T', 'T', 'T', 'T', 'T', 'T', 'T', 'T', 'T', 'T', 'T', 'T', 'T', 'T', 'T', 'T', 'T', 'T', 'T', 'T', 'T', 'T', 'T', 'T', 'T', 'T', 'T', 'T', 'T', 'T', 'T', 'T', 'T', 'T', 'T', 'T', 'T', 'T', 'T', 'T', 'T', 'T', 'T', 'T', 'T', 'T', 'T', 'T', 'T', 'T', 'T', 'T', 'T', 'T', 'T', 'T', 'T', 'T', 'T', 'T', 'T', 'T', 'T', 'T', 'T', 'T', 'T', 'T', 'T', 'T', 'T', 'T', 'T', 'T', 'T', 'T', 'T', 'T', 'T', 'T', 'T', 'T', 'T', 'T', 'T', 'T', 'T', 'T', 'T', 'T', 'T', 'T', 'T', 'T', 'T', 'T', 'T', 'T', 'T', 'T', 'T', 'T', 'T', 'T', 'T', 'T', 'T', 'T', 'T', 'T', 'T', 'T', 'T', 'T', 'T', 'T', 'T', 'T', 'T', 'T', 'T', 'T', 'T', 'T', 'T', 'T', 'T', 'T', 'T', 'T', 'T', 'T', 'T', 'T', 'T', 'T', 'T', 'T', 'T', 'T', 'T', 'T', 'T', 'T', 'T', 'T', 'T', 'T', 'T', 'T', 'T', 'T', 'T', 'T', 'T', 'T', 'T', 'T', 'T', 'T']\n",
      "['A', 'A', 'A', 'A', 'A', 'A', 'A', 'A', 'A', 'A', 'A', 'A', 'A', 'A', 'A', 'A', 'A', 'A', 'A', 'A', 'A', 'A', 'A', 'A', 'A', 'A', 'A', 'A', 'A', 'A', 'A', 'A', 'A', 'A', 'A', 'A', 'A', 'A', 'A', 'A', 'A', 'A', 'A', 'A', 'A', 'A', 'A', 'A', 'A', 'A', 'A', 'A', 'A', 'A', 'A', 'A', 'A', 'A', 'A', 'A', 'A', 'A', 'A', 'A', 'A', 'A', 'A', 'A', 'A', 'A', 'A', 'A', 'A', 'A', 'A', 'A', 'A', 'A', 'A', 'A', 'A', 'A', 'A', 'A', 'A', 'A', 'A', 'A', 'A', 'A', 'A', 'A', 'A', 'A', 'A', 'A', 'A', 'A', 'A', 'A', 'A', 'A', 'A', 'A', 'A', 'A', 'A', 'A', 'A', 'A', 'A', 'A', 'A', 'A', 'A', 'A', 'A', 'A', 'A', 'A', 'A', 'A', 'A', 'A', 'A', 'A', 'A', 'A', 'A', 'A', 'A', 'A', 'A', 'A', 'A', 'A', 'A', 'A', 'A', 'A', 'A', 'A', 'A', 'A', 'A', 'A', 'A', 'A', 'A', 'A', 'A', 'A', 'A', 'A', 'A', 'A', 'A', 'A', 'A', 'A', 'A', 'A', 'A', 'A', 'A', 'A', 'A', 'A', 'A', 'A', 'A', 'A', 'A', 'A', 'A', 'A', 'A', 'A', 'A', 'A', 'A', 'A', 'A', 'A', 'A', 'A', 'A', 'A', 'A', 'A', 'A', 'A', 'A', 'A', 'A', 'A', 'A', 'A', 'A', 'A', 'A', 'A', 'A', 'A', 'A', 'A', 'A', 'A', 'A', 'A', 'A', 'A', 'A', 'A', 'A', 'A', 'A', 'A', 'A', 'A', 'A', 'A', 'A', 'A', 'A', 'A', 'A', 'A', 'A', 'A', 'A', 'A', 'A', 'A', 'A', 'A', 'A', 'A', 'A', 'A', 'A', 'A', 'A', 'A', 'A', 'A', 'A']\n",
      "['C', 'C', 'C', 'C', 'C', 'C', 'C', 'C', 'C', 'C', 'C', 'C', 'C', 'C', 'C', 'C', 'C', 'C', 'C', 'C', 'C', 'C', 'C', 'C', 'C', 'C', 'C', 'C', 'C', 'C', 'C', 'C', 'C', 'C', 'C', 'C', 'C', 'C', 'C', 'C', 'C', 'C', 'C', 'C', 'C', 'C', 'C', 'C', 'C', 'C', 'C', 'C', 'C', 'C', 'C', 'C', 'C', 'C', 'C', 'C', 'C', 'C', 'C', 'C', 'C', 'C', 'C', 'C', 'C', 'C', 'C', 'C', 'C', 'C', 'C', 'C', 'C', 'C', 'C', 'C', 'C', 'C', 'C', 'C', 'C', 'C', 'C', 'C', 'C', 'C', 'C', 'C', 'C', 'C', 'C', 'C', 'C', 'C', 'C', 'C', 'C', 'C', 'C', 'C', 'C', 'C', 'C', 'C', 'C', 'C', 'C', 'C', 'C', 'C', 'C', 'C', 'C', 'C', 'C', 'C', 'C', 'C', 'C', 'C', 'C', 'C', 'C', 'C', 'C', 'C', 'C', 'C', 'C', 'C', 'C', 'C', 'C', 'C', 'C', 'C', 'C', 'C', 'C', 'C', 'C', 'C', 'C', 'C', 'C', 'C', 'C', 'C', 'C', 'C', 'C', 'C', 'C', 'C', 'C', 'C', 'C', 'C', 'C', 'C', 'C', 'C', 'C', 'C', 'C', 'C', 'C', 'C', 'C', 'C', 'C', 'C', 'C', 'C', 'C', 'C', 'C', 'C', 'C', 'C', 'C', 'C', 'C', 'C', 'C', 'C', 'C', 'C', 'C', 'C', 'C', 'C', 'C', 'C', 'C', 'C', 'C', 'C', 'C', 'C', 'C', 'C', 'C', 'C', 'C', 'C', 'C', 'C', 'C', 'C', 'C', 'C', 'C', 'C', 'C', 'C', 'C', 'C', 'C', 'C', 'C', 'C', 'C', 'C', 'C', 'C', 'C', 'C', 'C', 'C', 'C', 'C', 'C', 'C', 'C', 'C', 'C', 'C', 'C', 'C', 'C', 'C', 'C', 'C', 'C', 'C']\n",
      "['G', 'G', 'G', 'G', 'G', 'G', 'G', 'G', 'G', 'G', 'G', 'G', 'G', 'G', 'G', 'G', 'G', 'G', 'G', 'G', 'G', 'G', 'G', 'G', 'G', 'G', 'G', 'G', 'G', 'G', 'G', 'G', 'G', 'G', 'G', 'G', 'G', 'G', 'G', 'G', 'G', 'G', 'G', 'G', 'G', 'G', 'G', 'G', 'G', 'G', 'G', 'G', 'G', 'G', 'G', 'G', 'G', 'G', 'G', 'G', 'G', 'G', 'G', 'G', 'G', 'G', 'G', 'G', 'G', 'G', 'G', 'G', 'G', 'G', 'G', 'G', 'G', 'G', 'G', 'G', 'G', 'G', 'G', 'G', 'G', 'G', 'G', 'G', 'G', 'G', 'G', 'G', 'G', 'G', 'G', 'G', 'G', 'G', 'G', 'G', 'G', 'G', 'G', 'G', 'G', 'G', 'G', 'G', 'G', 'G', 'G', 'G', 'G', 'G', 'G', 'G', 'G', 'G', 'G', 'G', 'G', 'G', 'G', 'G', 'G', 'G', 'G', 'G', 'G', 'G', 'G', 'G', 'G', 'G', 'G', 'G', 'G', 'G', 'G', 'G', 'G', 'G', 'G', 'G', 'G', 'G', 'G', 'G', 'G', 'G', 'G', 'G', 'G', 'G', 'G', 'G', 'G', 'G', 'G', 'G', 'G', 'G', 'G', 'G', 'G', 'G', 'G', 'G', 'G', 'G', 'G', 'G', 'G', 'G', 'G', 'G', 'G', 'G', 'G', 'G', 'G', 'G', 'G', 'G', 'G', 'G', 'G', 'G', 'G', 'G', 'G', 'G', 'G', 'G', 'G', 'G', 'G', 'G', 'G', 'G', 'G', 'G', 'G', 'G', 'G', 'G', 'G', 'G', 'G', 'G', 'G', 'G', 'G', 'G', 'G', 'G', 'G', 'G', 'G', 'G', 'G', 'G', 'G', 'G', 'G', 'G', 'G', 'G', 'G', 'G', 'G', 'G', 'G', 'G', 'G', 'G', 'G', 'G', 'G', 'G', 'G', 'G', 'G', 'G', 'G', 'G', 'G', 'G', 'G']\n"
     ]
    },
    {
     "data": {
      "text/plain": [
       "(254, 247, 250, 249)"
      ]
     },
     "execution_count": 138,
     "metadata": {},
     "output_type": "execute_result"
    }
   ],
   "source": [
    "sequence = \"AGGCAAGAAGCTAGAATTCTGGCCTGAGTATCTCAGTACAGGCGCAGTCGAATCTTCCGGAATCACATTGCTCGCGCTTAAACCCGCTCTAAACCTTTGAGTAATTCGACGACATTGGGTTCCCTCCGACGCTGTCTGACAACTCTTTAAGATCCTTGGCACGATGTCGATAGACATTGTCCCTGATGACGCCTCACAAGGTAACCTGGCTCTAGTAGGGTGGTCTTTGCTGCGGAACTTACCACCTGGTGGATCCAAGCACCAGAGGAGTTCGAAGAGGCTGGGGTACCCCCTATTTAGGAAGGGCGAGACTACGGTCACAAATTCCAAATGGCTTCCCTCGATTCATGACGCCAGAATGCCTGGCTGTGCCAATTTGTCGCCTTGCGTCGTTCTGTCAATCTTTACTCGTGTCGTGTTGTGATAAATGACAAACCCTGCACAACGTAGGGCTCACACAAGGGAATCTAGAGTATCCGATACAGGGAGCTTTAGCTTCCGTCCCTTATAGCCTGCCATATTCTTGCGGTAGCACGAGCCTCAGATCTTCTCACTCCGGAAATGGGAGCTTCGACGGTCAAGGGCTAAGACGTCTTCGGGAGAAATACCTAGGCGATGACCCTGAGTGGTTTTCCGCGTATAACTCATCCTGGTTGCAAATGATTACCGTTATAGCCTGGGGATATGCCTCAATTCCGAACCCAGGAGCATCACTCGAGCAATAGCGGTAAAGGAGGCTATTAGCAAAATTGTCACGATAAGCGCCGTTGTAGTGAAATTAAGATACATACATCGTTTAGCACATCACTCTCACGGCGTCTAGAAGCTGATCTTCATATGCTGACTCAGAAGGCTCGGATAATAGAGGACGAAGGTAGTTTACTCATCGCTGCCCCGACTATTACGTGTGCATGATAAAGTCTGACCCTGACGTTCCCAAGCCGAGGCAGAGGGGTTTTACGCTGAATGTCCGCTCTCTGTCGGATGATTTCGGAAGCTG\"\n",
    "\n",
    "lst = []\n",
    "lst.extend(sequence)\n",
    "lst.sort()\n",
    "\n",
    "\n",
    "T = [base for base in lst if base == \"T\"]\n",
    "\n",
    "A = [base for base in lst if base == \"A\"]\n",
    "\n",
    "C = [base for base in lst if base == \"C\"]\n",
    "\n",
    "G = [base for base in lst if base == \"G\"]\n",
    "\n",
    "print(T)\n",
    "print(A)\n",
    "print(C)\n",
    "print(G)\n",
    "\n",
    "len(T), len(A), len(C), len(G) \n",
    "\n",
    "\n",
    "\n",
    "\n",
    "\n",
    "\n"
   ]
  },
  {
   "cell_type": "code",
   "execution_count": 145,
   "id": "b2d8ba67",
   "metadata": {},
   "outputs": [
    {
     "name": "stdout",
     "output_type": "stream",
     "text": [
      "{'A': 247, 'T': 254, 'C': 250, 'G': 249}\n"
     ]
    }
   ],
   "source": [
    "counts = {\"A\": 0, \"T\": 0, \"C\": 0, \"G\": 0}\n",
    "\n",
    "\n",
    "for base in lst:\n",
    "    if base == \"T\":\n",
    "        counts[\"T\"] += 1\n",
    "\n",
    "\n",
    "for base in lst:\n",
    "    if base == \"A\":\n",
    "        counts[\"A\"] += 1\n",
    "\n",
    "\n",
    "for base in lst:\n",
    "    if base == \"C\":\n",
    "        counts[\"C\"] += 1\n",
    "\n",
    "for base in lst:\n",
    "    if base == \"G\":\n",
    "        counts[\"G\"] += 1\n",
    "print(counts)\n",
    "\n",
    "\n"
   ]
  },
  {
   "cell_type": "code",
   "execution_count": 62,
   "id": "06c5ed09",
   "metadata": {},
   "outputs": [
    {
     "data": {
      "text/plain": [
       "(array(['A', 'C', 'G', 'T'], dtype='<U1'), array([247, 250, 249, 254]))"
      ]
     },
     "execution_count": 62,
     "metadata": {},
     "output_type": "execute_result"
    }
   ],
   "source": [
    "np.unique(lst, return_counts=True)"
   ]
  },
  {
   "cell_type": "code",
   "execution_count": 60,
   "id": "3d9f3ed8",
   "metadata": {},
   "outputs": [
    {
     "name": "stdout",
     "output_type": "stream",
     "text": [
      "['AGGC', 'AAGA', 'AGCT', 'AGAA', 'TTCT', 'GGCC', 'TGAG', 'TATC', 'TCAG', 'TACA', 'GGCG', 'CAGT', 'CGAA', 'TCTT', 'CCGG', 'AATC', 'ACAT', 'TGCT', 'CGCG', 'CTTA', 'AACC', 'CGCT', 'CTAA', 'ACCT', 'TTGA', 'GTAA', 'TTCG', 'ACGA', 'CATT', 'GGGT', 'TCCC', 'TCCG', 'ACGC', 'TGTC', 'TGAC', 'AACT', 'CTTT', 'AAGA', 'TCCT', 'TGGC', 'ACGA', 'TGTC', 'GATA', 'GACA', 'TTGT', 'CCCT', 'GATG', 'ACGC', 'CTCA', 'CAAG', 'GTAA', 'CCTG', 'GCTC', 'TAGT', 'AGGG', 'TGGT', 'CTTT', 'GCTG', 'CGGA', 'ACTT', 'ACCA', 'CCTG', 'GTGG', 'ATCC', 'AAGC', 'ACCA', 'GAGG', 'AGTT', 'CGAA', 'GAGG', 'CTGG', 'GGTA', 'CCCC', 'CTAT', 'TTAG', 'GAAG', 'GGCG', 'AGAC', 'TACG', 'GTCA', 'CAAA', 'TTCC', 'AAAT', 'GGCT', 'TCCC', 'TCGA', 'TTCA', 'TGAC', 'GCCA', 'GAAT', 'GCCT', 'GGCT', 'GTGC', 'CAAT', 'TTGT', 'CGCC', 'TTGC', 'GTCG', 'TTCT', 'GTCA', 'ATCT', 'TTAC', 'TCGT', 'GTCG', 'TGTT', 'GTGA', 'TAAA', 'TGAC', 'AAAC', 'CCTG', 'CACA', 'ACGT', 'AGGG', 'CTCA', 'CACA', 'AGGG', 'AATC', 'TAGA', 'GTAT', 'CCGA', 'TACA', 'GGGA', 'GCTT', 'TAGC', 'TTCC', 'GTCC', 'CTTA', 'TAGC', 'CTGC', 'CATA', 'TTCT', 'TGCG', 'GTAG', 'CACG', 'AGCC', 'TCAG', 'ATCT', 'TCTC', 'ACTC', 'CGGA', 'AATG', 'GGAG', 'CTTC', 'GACG', 'GTCA', 'AGGG', 'CTAA', 'GACG', 'TCTT', 'CGGG', 'AGAA', 'ATAC', 'CTAG', 'GCGA', 'TGAC', 'CCTG', 'AGTG', 'GTTT', 'TCCG', 'CGTA', 'TAAC', 'TCAT', 'CCTG', 'GTTG', 'CAAA', 'TGAT', 'TACC', 'GTTA', 'TAGC', 'CTGG', 'GGAT', 'ATGC', 'CTCA', 'ATTC', 'CGAA', 'CCCA', 'GGAG', 'CATC', 'ACTC', 'GAGC', 'AATA', 'GCGG', 'TAAA', 'GGAG', 'GCTA', 'TTAG', 'CAAA', 'ATTG', 'TCAC', 'GATA', 'AGCG', 'CCGT', 'TGTA', 'GTGA', 'AATT', 'AAGA', 'TACA', 'TACA', 'TCGT', 'TTAG', 'CACA', 'TCAC', 'TCTC', 'ACGG', 'CGTC', 'TAGA', 'AGCT', 'GATC', 'TTCA', 'TATG', 'CTGA', 'CTCA', 'GAAG', 'GCTC', 'GGAT', 'AATA', 'GAGG', 'ACGA', 'AGGT', 'AGTT', 'TACT', 'CATC', 'GCTG', 'CCCC', 'GACT', 'ATTA', 'CGTG', 'TGCA', 'TGAT', 'AAAG', 'TCTG', 'ACCC', 'TGAC', 'GTTC', 'CCAA', 'GCCG', 'AGGC', 'AGAG', 'GGGT', 'TTTA', 'CGCT', 'GAAT', 'GTCC', 'GCTC', 'TCTG', 'TCGG', 'ATGA', 'TTTC', 'GGAA', 'GCTG']\n"
     ]
    }
   ],
   "source": [
    "x=[]\n",
    "\n",
    "for i in range(0, len(sequence), 4):\n",
    "    x.append(sequence[i:i+4])\n",
    "    \n",
    "print(x)"
   ]
  }
 ],
 "metadata": {
  "kernelspec": {
   "display_name": "Python 3 (ipykernel)",
   "language": "python",
   "name": "python3"
  },
  "language_info": {
   "codemirror_mode": {
    "name": "ipython",
    "version": 3
   },
   "file_extension": ".py",
   "mimetype": "text/x-python",
   "name": "python",
   "nbconvert_exporter": "python",
   "pygments_lexer": "ipython3",
   "version": "3.9.13"
  },
  "toc": {
   "base_numbering": 1,
   "nav_menu": {},
   "number_sections": true,
   "sideBar": true,
   "skip_h1_title": false,
   "title_cell": "Table of Contents",
   "title_sidebar": "Contents",
   "toc_cell": false,
   "toc_position": {},
   "toc_section_display": true,
   "toc_window_display": false
  },
  "varInspector": {
   "cols": {
    "lenName": 16,
    "lenType": 16,
    "lenVar": 40
   },
   "kernels_config": {
    "python": {
     "delete_cmd_postfix": "",
     "delete_cmd_prefix": "del ",
     "library": "var_list.py",
     "varRefreshCmd": "print(var_dic_list())"
    },
    "r": {
     "delete_cmd_postfix": ") ",
     "delete_cmd_prefix": "rm(",
     "library": "var_list.r",
     "varRefreshCmd": "cat(var_dic_list()) "
    }
   },
   "types_to_exclude": [
    "module",
    "function",
    "builtin_function_or_method",
    "instance",
    "_Feature"
   ],
   "window_display": false
  },
  "vscode": {
   "interpreter": {
    "hash": "31f2aee4e71d21fbe5cf8b01ff0e069b9275f58929596ceb00d14d90e3e16cd6"
   }
  }
 },
 "nbformat": 4,
 "nbformat_minor": 5
}
